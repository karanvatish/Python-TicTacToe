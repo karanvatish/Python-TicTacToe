{
 "cells": [
  {
   "cell_type": "markdown",
   "id": "1da0620f",
   "metadata": {},
   "source": [
    "#### Method to display Board"
   ]
  },
  {
   "cell_type": "code",
   "execution_count": 22,
   "id": "d23cc682",
   "metadata": {},
   "outputs": [],
   "source": [
    "def display_board(board):\n",
    "    \n",
    "    print(\" \"*100) \n",
    "    print(\"   |   |   \")\n",
    "    print(f\" {board[7]} | {board[8]} | {board[9]} \")\n",
    "    print(\"   |   |   \")\n",
    "    print(\"-----------\")\n",
    "    print(\"   |   |   \")\n",
    "    print(f\" {board[4]} | {board[5]} | {board[6]} \")\n",
    "    print(\"   |   |   \")\n",
    "    print(\"-----------\")\n",
    "    print(\"   |   |   \")\n",
    "    print(f\" {board[1]} | {board[2]} | {board[3]} \")\n",
    "    print(\"   |   |   \")"
   ]
  },
  {
   "cell_type": "code",
   "execution_count": 23,
   "id": "4ef90fe3",
   "metadata": {},
   "outputs": [
    {
     "name": "stdout",
     "output_type": "stream",
     "text": [
      "                                                                                                    \n",
      "   |   |   \n",
      "   |   |   \n",
      "   |   |   \n",
      "-----------\n",
      "   |   |   \n",
      "   |   |   \n",
      "   |   |   \n",
      "-----------\n",
      "   |   |   \n",
      "   |   |   \n",
      "   |   |   \n"
     ]
    }
   ],
   "source": [
    "display_board(['#',' ',' ',' ',' ',' ',' ',' ',' ',' '])"
   ]
  },
  {
   "cell_type": "markdown",
   "id": "65bb2412",
   "metadata": {},
   "source": [
    "#### Select Player1 Marker choice"
   ]
  },
  {
   "cell_type": "code",
   "execution_count": 24,
   "id": "af2a3d05",
   "metadata": {},
   "outputs": [],
   "source": [
    "def player1_choice_xo():\n",
    "    player1_choice = 'wrong'\n",
    "    while player1_choice not in ['X','O']:\n",
    "        player1_choice=input(\"Please pick a marker 'X' or 'O'\").upper()\n",
    "        \n",
    "        if player1_choice not in ['X','O']:\n",
    "            print(\"sorry invalid choice\")\n",
    "    return player1_choice"
   ]
  },
  {
   "cell_type": "code",
   "execution_count": 25,
   "id": "5b7413e9",
   "metadata": {},
   "outputs": [
    {
     "name": "stdout",
     "output_type": "stream",
     "text": [
      "Please pick a marker 'X' or 'O'x\n"
     ]
    },
    {
     "data": {
      "text/plain": [
       "'X'"
      ]
     },
     "execution_count": 25,
     "metadata": {},
     "output_type": "execute_result"
    }
   ],
   "source": [
    "player1_choice_xo()"
   ]
  },
  {
   "cell_type": "markdown",
   "id": "1ab4525f",
   "metadata": {},
   "source": [
    "#### Player 2 Marker Choice"
   ]
  },
  {
   "cell_type": "code",
   "execution_count": 83,
   "id": "0ff8af35",
   "metadata": {},
   "outputs": [],
   "source": [
    "def player2_choice_xo(player1_choice):\n",
    "    player2_choice=''\n",
    "    if player1_choice=='X':\n",
    "        player2_choice='O'\n",
    "    else:\n",
    "        player2_choice='X'\n",
    "    return player2_choice"
   ]
  },
  {
   "cell_type": "code",
   "execution_count": 84,
   "id": "f42a1a95",
   "metadata": {},
   "outputs": [
    {
     "data": {
      "text/plain": [
       "'O'"
      ]
     },
     "execution_count": 84,
     "metadata": {},
     "output_type": "execute_result"
    }
   ],
   "source": [
    "player2_choice_xo('X')"
   ]
  },
  {
   "cell_type": "markdown",
   "id": "32489b9c",
   "metadata": {},
   "source": [
    "#### Check Empty position in Board"
   ]
  },
  {
   "cell_type": "code",
   "execution_count": 70,
   "id": "acef48f2",
   "metadata": {},
   "outputs": [],
   "source": [
    "board = ['#',' ',' ',' ',' ',' ',' ',' ',' ',' ']"
   ]
  },
  {
   "cell_type": "code",
   "execution_count": 37,
   "id": "dc4bacb0",
   "metadata": {},
   "outputs": [],
   "source": [
    "def space_check(board,position):\n",
    "    return board[position] == ' '"
   ]
  },
  {
   "cell_type": "code",
   "execution_count": 44,
   "id": "0523df7a",
   "metadata": {},
   "outputs": [
    {
     "data": {
      "text/plain": [
       "True"
      ]
     },
     "execution_count": 44,
     "metadata": {},
     "output_type": "execute_result"
    }
   ],
   "source": [
    "space_check(board,0) == False"
   ]
  },
  {
   "cell_type": "code",
   "execution_count": 43,
   "id": "50f58c1a",
   "metadata": {},
   "outputs": [
    {
     "data": {
      "text/plain": [
       "True"
      ]
     },
     "execution_count": 43,
     "metadata": {},
     "output_type": "execute_result"
    }
   ],
   "source": [
    "0 not in range(1,10)"
   ]
  },
  {
   "cell_type": "markdown",
   "id": "68f9d329",
   "metadata": {},
   "source": [
    "#### Select Marker Position"
   ]
  },
  {
   "cell_type": "code",
   "execution_count": 85,
   "id": "0f53dc9c",
   "metadata": {},
   "outputs": [],
   "source": [
    "def player_marker_position(board,player):\n",
    "    position = 0\n",
    "    while position not in range(1,10):\n",
    "        position=int(input(f\"{player} Please pick a poistion for marker(1-9)\"))\n",
    "        if position in range(1,10) and space_check(board,position)==False:\n",
    "            position=0\n",
    "        \n",
    "        if position not in range(1,10):\n",
    "            print(\"sorry invalid choice or position already occupied\")\n",
    "    return position"
   ]
  },
  {
   "cell_type": "code",
   "execution_count": 86,
   "id": "678e8c13",
   "metadata": {},
   "outputs": [
    {
     "name": "stdout",
     "output_type": "stream",
     "text": [
      "playe1 Please pick a poistion for marker(1-9)1\n"
     ]
    },
    {
     "data": {
      "text/plain": [
       "1"
      ]
     },
     "execution_count": 86,
     "metadata": {},
     "output_type": "execute_result"
    }
   ],
   "source": [
    "player_marker_position(board,'playe1')"
   ]
  },
  {
   "cell_type": "markdown",
   "id": "fa0785ad",
   "metadata": {},
   "source": [
    "#### Place Marker"
   ]
  },
  {
   "cell_type": "code",
   "execution_count": 66,
   "id": "52fcd86a",
   "metadata": {},
   "outputs": [],
   "source": [
    "def place_marker(board,marker,position):\n",
    "    board[position]=marker"
   ]
  },
  {
   "cell_type": "code",
   "execution_count": 67,
   "id": "5d293748",
   "metadata": {},
   "outputs": [
    {
     "name": "stdout",
     "output_type": "stream",
     "text": [
      "                                                                                                    \n",
      "   |   |   \n",
      "   |   |   \n",
      "   |   |   \n",
      "-----------\n",
      "   |   |   \n",
      "   |   |   \n",
      "   |   |   \n",
      "-----------\n",
      "   |   |   \n",
      "   |   |   \n",
      "   |   |   \n"
     ]
    }
   ],
   "source": [
    "display_board(board)"
   ]
  },
  {
   "cell_type": "code",
   "execution_count": 68,
   "id": "7acf8957",
   "metadata": {},
   "outputs": [],
   "source": [
    "place_marker(board,'X',1)"
   ]
  },
  {
   "cell_type": "code",
   "execution_count": 69,
   "id": "4d584e59",
   "metadata": {},
   "outputs": [
    {
     "name": "stdout",
     "output_type": "stream",
     "text": [
      "                                                                                                    \n",
      "   |   |   \n",
      "   |   |   \n",
      "   |   |   \n",
      "-----------\n",
      "   |   |   \n",
      "   |   |   \n",
      "   |   |   \n",
      "-----------\n",
      "   |   |   \n",
      " X |   |   \n",
      "   |   |   \n"
     ]
    }
   ],
   "source": [
    "display_board(board)"
   ]
  },
  {
   "cell_type": "code",
   "execution_count": 74,
   "id": "92f9e9db",
   "metadata": {},
   "outputs": [],
   "source": [
    "def check_game_win(board,marker):\n",
    "    win = False\n",
    "    if board[1] == marker and board[2] == marker and board[3] == marker:\n",
    "        win = True\n",
    "    elif board[4] == marker and board[5] == marker and board[6] == marker:\n",
    "        win = True\n",
    "    elif board[7] == marker and board[8] == marker and board[9] == marker:\n",
    "        win = True\n",
    "    elif board[1] == marker and board[4] == marker and board[7] == marker:\n",
    "        win = True\n",
    "    elif board[1] == marker and board[5] == marker and board[9] == marker:\n",
    "        win = True\n",
    "    elif board[2] == marker and board[5] == marker and board[8] == marker:\n",
    "        win = True\n",
    "    elif board[3] == marker and board[6] == marker and board[9] == marker:\n",
    "        win = True\n",
    "    elif board[3] == marker and board[5] == marker and board[7] == marker:\n",
    "        win = True\n",
    "    else:\n",
    "        win = False\n",
    "    return win"
   ]
  },
  {
   "cell_type": "code",
   "execution_count": 76,
   "id": "3495d10c",
   "metadata": {},
   "outputs": [
    {
     "data": {
      "text/plain": [
       "True"
      ]
     },
     "execution_count": 76,
     "metadata": {},
     "output_type": "execute_result"
    }
   ],
   "source": [
    "board = ['#','X','X','X',' ',' ',' ',' ',' ',' ']\n",
    "check_game_win(board,'X')"
   ]
  },
  {
   "cell_type": "markdown",
   "id": "ef051e60",
   "metadata": {},
   "source": [
    "#### check If all Position are filled"
   ]
  },
  {
   "cell_type": "code",
   "execution_count": 77,
   "id": "2e3650de",
   "metadata": {},
   "outputs": [],
   "source": [
    "def check_board_full(board):\n",
    "    is_full = True\n",
    "    for x in board:\n",
    "        if x == ' ':\n",
    "            is_full = False\n",
    "        else:\n",
    "            pass\n",
    "    return is_full"
   ]
  },
  {
   "cell_type": "code",
   "execution_count": 79,
   "id": "69014a6f",
   "metadata": {},
   "outputs": [
    {
     "data": {
      "text/plain": [
       "True"
      ]
     },
     "execution_count": 79,
     "metadata": {},
     "output_type": "execute_result"
    }
   ],
   "source": [
    "board = ['#','X','X','X','O','O','O','X','O','X']\n",
    "check_board_full(board)"
   ]
  },
  {
   "cell_type": "code",
   "execution_count": 81,
   "id": "ab37bdf5",
   "metadata": {},
   "outputs": [],
   "source": [
    "def restart_game():\n",
    "    board = ['#',' ',' ',' ',' ',' ',' ',' ',' ',' ']\n",
    "    return board"
   ]
  },
  {
   "cell_type": "code",
   "execution_count": 88,
   "id": "fd682ec9",
   "metadata": {},
   "outputs": [],
   "source": [
    "def check_game_complete(board):\n",
    "    return check_game_win(board,'X') or check_game_win(board,'O') or check_board_full(board)"
   ]
  },
  {
   "cell_type": "code",
   "execution_count": 89,
   "id": "2a3140b2",
   "metadata": {},
   "outputs": [],
   "source": [
    "def replay():\n",
    "    replay = 'wrong'\n",
    "    while replay not in ['Y','N']:\n",
    "        replay=input(\"Do you want to Replay ? 'Y' or 'N'\").upper()\n",
    "        \n",
    "        if replay not in ['Y','N']:\n",
    "            print(\"sorry invalid choice\")\n",
    "    return replay"
   ]
  },
  {
   "cell_type": "code",
   "execution_count": 102,
   "id": "08ebc395",
   "metadata": {},
   "outputs": [],
   "source": [
    "def start_game():\n",
    "   \n",
    "    print (\"Welcome lets start playing\")\n",
    "    \n",
    "    board = restart_game()\n",
    "    \n",
    "    display_board(board)\n",
    "    \n",
    "    player1_marker = player1_choice_xo()\n",
    "    \n",
    "    player2_marker = player2_choice_xo(player1_marker)\n",
    "    \n",
    "    player1_turn = True\n",
    " \n",
    "    while not check_game_complete(board):\n",
    "        \n",
    "        if player1_turn:\n",
    "            \n",
    "            player1_position = player_marker_position(board, 'Player1')\n",
    "            \n",
    "            place_marker(board,player1_marker,player1_position)\n",
    "            \n",
    "            player1_turn = False\n",
    "        \n",
    "        else:\n",
    "            \n",
    "            player2_position = player_marker_position(board, 'Player2')\n",
    "            \n",
    "            place_marker(board,player2_marker,player2_position)\n",
    "            \n",
    "            player1_turn = True\n",
    "        \n",
    "        display_board(board)\n",
    "    \n",
    "        if check_game_win(board,player1_marker):\n",
    "            print(f\"Congratulation Player1 Wins\")\n",
    "            \n",
    "        elif check_game_win(board,player2_marker):\n",
    "            print(f\"Congratulation Player2 Wins\")\n",
    "            \n",
    "        elif check_board_full(board):\n",
    "            print (\"Game Draw\")\n",
    "            \n",
    "            \n",
    "        if check_game_complete(board):\n",
    "            game_restart=replay()\n",
    "            if game_restart == 'Y':\n",
    "                board=start_game()"
   ]
  },
  {
   "cell_type": "code",
   "execution_count": 103,
   "id": "2bce898f",
   "metadata": {},
   "outputs": [
    {
     "name": "stdout",
     "output_type": "stream",
     "text": [
      "Welcome lets start playing\n",
      "                                                                                                    \n",
      "   |   |   \n",
      "   |   |   \n",
      "   |   |   \n",
      "-----------\n",
      "   |   |   \n",
      "   |   |   \n",
      "   |   |   \n",
      "-----------\n",
      "   |   |   \n",
      "   |   |   \n",
      "   |   |   \n",
      "Please pick a marker 'X' or 'O'X\n",
      "Player1 Please pick a poistion for marker(1-9)1\n",
      "                                                                                                    \n",
      "   |   |   \n",
      "   |   |   \n",
      "   |   |   \n",
      "-----------\n",
      "   |   |   \n",
      "   |   |   \n",
      "   |   |   \n",
      "-----------\n",
      "   |   |   \n",
      " X |   |   \n",
      "   |   |   \n",
      "Player2 Please pick a poistion for marker(1-9)9\n",
      "                                                                                                    \n",
      "   |   |   \n",
      "   |   | O \n",
      "   |   |   \n",
      "-----------\n",
      "   |   |   \n",
      "   |   |   \n",
      "   |   |   \n",
      "-----------\n",
      "   |   |   \n",
      " X |   |   \n",
      "   |   |   \n",
      "Player1 Please pick a poistion for marker(1-9)3\n",
      "                                                                                                    \n",
      "   |   |   \n",
      "   |   | O \n",
      "   |   |   \n",
      "-----------\n",
      "   |   |   \n",
      "   |   |   \n",
      "   |   |   \n",
      "-----------\n",
      "   |   |   \n",
      " X |   | X \n",
      "   |   |   \n",
      "Player2 Please pick a poistion for marker(1-9)7\n",
      "                                                                                                    \n",
      "   |   |   \n",
      " O |   | O \n",
      "   |   |   \n",
      "-----------\n",
      "   |   |   \n",
      "   |   |   \n",
      "   |   |   \n",
      "-----------\n",
      "   |   |   \n",
      " X |   | X \n",
      "   |   |   \n",
      "Player1 Please pick a poistion for marker(1-9)2\n",
      "                                                                                                    \n",
      "   |   |   \n",
      " O |   | O \n",
      "   |   |   \n",
      "-----------\n",
      "   |   |   \n",
      "   |   |   \n",
      "   |   |   \n",
      "-----------\n",
      "   |   |   \n",
      " X | X | X \n",
      "   |   |   \n",
      "Congratulation Player1 Wins\n",
      "Do you want to Replay ? 'Y' or 'N'N\n"
     ]
    }
   ],
   "source": [
    "start_game()"
   ]
  },
  {
   "cell_type": "code",
   "execution_count": null,
   "id": "cf54ffc2",
   "metadata": {},
   "outputs": [],
   "source": []
  }
 ],
 "metadata": {
  "kernelspec": {
   "display_name": "Python 3 (ipykernel)",
   "language": "python",
   "name": "python3"
  },
  "language_info": {
   "codemirror_mode": {
    "name": "ipython",
    "version": 3
   },
   "file_extension": ".py",
   "mimetype": "text/x-python",
   "name": "python",
   "nbconvert_exporter": "python",
   "pygments_lexer": "ipython3",
   "version": "3.9.7"
  }
 },
 "nbformat": 4,
 "nbformat_minor": 5
}
